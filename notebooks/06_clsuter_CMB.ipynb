{
 "cells": [
  {
   "cell_type": "markdown",
   "metadata": {},
   "source": [
    "# ***화승***"
   ]
  },
  {
   "cell_type": "markdown",
   "metadata": {},
   "source": [
    "## ***IMPORT LIBRARY***\n",
    "---"
   ]
  },
  {
   "cell_type": "code",
   "execution_count": 1,
   "metadata": {},
   "outputs": [],
   "source": [
    "### Library Import \n",
    "import os\n",
    "import re\n",
    "import sys\n",
    "import glob\n",
    "import shap\n",
    "import optuna\n",
    "import pickle\n",
    "import warnings\n",
    "import numpy as np \n",
    "import pandas as pd \n",
    "import seaborn as sns\n",
    "import xgboost as xgb\n",
    "from math import ceil\n",
    "from tqdm import tqdm\n",
    "from scipy import stats\n",
    "import statsmodels.api as sm\n",
    "from functools import partial\n",
    "from collections import Counter\n",
    "from pandarallel import pandarallel\n",
    "from xgboost import XGBRegressor, callback as xgb_callback\n",
    "from datetime import timedelta, time, datetime\n",
    "from scipy.stats import truncnorm\n",
    "from IPython.display import Image\n",
    "from optbinning import OptimalBinning\n",
    "import matplotlib.pyplot as plt\n",
    "import matplotlib.dates as mdates\n",
    "import matplotlib.font_manager as fm\n",
    "import matplotlib.patches as patches\n",
    "from matplotlib.dates import AutoDateLocator, AutoDateFormatter\n",
    "warnings.filterwarnings('ignore')\n",
    "plt.rc('font', family='Apple SD Gothic Neo')\n",
    "\n",
    "# Pandas 옵션 설정 \n",
    "pd.set_option('display.max_rows', 50)\n",
    "pd.set_option('display.max_columns', None)\n",
    "\n",
    "# Scikit-Learn \n",
    "from sklearn.model_selection import train_test_split, cross_val_score\n",
    "from sklearn.metrics import r2_score, mean_squared_error\n",
    "from sklearn.preprocessing import StandardScaler\n",
    "from sklearn.model_selection import KFold\n",
    "from skopt import gp_minimize\n",
    "from skopt.space import Integer, Real, Categorical\n",
    "from skopt.utils import use_named_args\n",
    "from skopt.plots import plot_convergence \n",
    "\n",
    "# Import fns \n",
    "from utils import * \n",
    "from hwaseung_fn import * "
   ]
  },
  {
   "cell_type": "markdown",
   "metadata": {},
   "source": [
    "## ***Load Dataset***\n",
    "---"
   ]
  },
  {
   "cell_type": "code",
   "execution_count": 2,
   "metadata": {},
   "outputs": [
    {
     "name": "stdout",
     "output_type": "stream",
     "text": [
      "====================================================================================================\n",
      "Log Dataset: (9478081, 37)\n",
      "QA Dataset: (334291, 16)\n",
      "Recipe Dataset: (1813072, 13)\n",
      "INFO Dataset: (80, 2)\n",
      "Weather Dataset: (1268, 5)\n",
      "====================================================================================================\n"
     ]
    }
   ],
   "source": [
    "### Cluster Dict \n",
    "cluster_dict = {\n",
    "        'cluster1': {'products': [\"FFWED70284\",\"FFWED70007\",\"FFWED70267\",\"FFWED70103\",\"FFWED70199\",\"FFSED70438\",\"FFWED70033\",\n",
    "                                \"FFWES60194\",\"FFSED70498\",\"FFSED70533\",\"FFWED70321\"],\n",
    "                    'var': 'T5'},\n",
    "        'cluster2': {'products': [\"FFWED70019\",\"FFWED70102\",\"FFWED70283\",\"FFHED70076\",\"FFWED70338\",\n",
    "                                \"FFHED70014\",\"FFSED70032\",\"FFHED70147\",\n",
    "                                \"FFHED60009\",\"FFHED60006\"],\n",
    "                    'var': 'T3'},\n",
    "        'cluster3': {'products': [\"HCSED50105\", \"HCSED60072\",\n",
    "                                \"HCWED60031\", \"HCSED50391\", \"HCSED70092\", \"HCSED60024\",],\n",
    "                    'var': 'M/B 점도 (ML)'},\n",
    "        'cluster4': {'products': [\"HCSED60010\", \"HCSES60015\", \"HCWES60017\",\n",
    "                                \"HCSED70584\", \"HCSED60530\", \"HCSED50047\",\n",
    "                                \"HCSED40011\", \"HCSED20006\",\n",
    "                                \"HCWED70019\", \"FCHED60002\", \"FCWED70009\",\n",
    "                                \"HCSED60017\", \"HCSED70143\"],\n",
    "                    'var': 'M/B 점도 (MS)'}\n",
    "        }\n",
    "\n",
    "# Random Seed & Path \n",
    "random_seed = 22\n",
    "path = '/Users/hwijongim/Library/CloudStorage/OneDrive-앰버로드/문서 - Solution/2502_화승/20.수행/22.분석과제/250408_분석_sm'\n",
    "\n",
    "# Product 정의 \n",
    "train_cluster = \"cluster1\"\n",
    "p_codes = cluster_dict['cluster1']['products']  \n",
    "\n",
    "# Target \n",
    "target_list = [\"Ct 90\"] + [\"Scorch (T5)\", \"Scorch (T3)\"] + ['Vm (T5)', \"Vm (T3)\", \"M/B 점도 (ML)\", \"M/B 점도 (MS)\"] + [\"경도\"]\n",
    "\n",
    "# Data Import \n",
    "        # Log \n",
    "log_df = pd.read_csv(f\"{path}/log_df_10s.csv\")\n",
    "# log_df = log_df[log_df[\"제품코드\"].isin(cluster_dict[train_cluster][\"products\"])] \n",
    "        # QA \n",
    "qa_df = pd.read_csv(f\"{path}/qa_df.csv\") \n",
    "        # Recipe\n",
    "recipe_df = pd.read_csv(f\"{path}/recipe_df.csv\") \n",
    "        # INFO \n",
    "info = pd.read_excel(f\"{path}/투입자재 CODE별 비중 정보.xlsx\", header=1, index_col=0).reset_index(drop=True)\n",
    "        # Weather \n",
    "weather_df = pd.read_csv(f\"{path}/weather_dg.csv\")\n",
    "weather_df[\"연월일\"] = weather_df[\"연월일\"].astype(str)\n",
    "\n",
    "# Recipe Origin \n",
    "recipe_origin_df = recipe_df.copy()\n",
    "\n",
    "# Print \n",
    "print('='*100)\n",
    "print(f'Log Dataset: {log_df.shape}')\n",
    "print(f'QA Dataset: {qa_df.shape}')\n",
    "print(f'Recipe Dataset: {recipe_df.shape}')\n",
    "print(f'INFO Dataset: {info.shape}')\n",
    "print(f'Weather Dataset: {weather_df.shape}')\n",
    "print('='*100)"
   ]
  },
  {
   "cell_type": "markdown",
   "metadata": {},
   "source": [
    "## ***Data Preprocessing***\n",
    "---"
   ]
  },
  {
   "cell_type": "code",
   "execution_count": 3,
   "metadata": {},
   "outputs": [
    {
     "name": "stdout",
     "output_type": "stream",
     "text": [
      "INFO: Pandarallel will run on 8 workers.\n",
      "INFO: Pandarallel will use standard multiprocessing data transfer (pipe) to transfer data between the main process and workers.\n"
     ]
    },
    {
     "data": {
      "application/vnd.jupyter.widget-view+json": {
       "model_id": "0cc6b4a021824b0b86b5bca9fc65740b",
       "version_major": 2,
       "version_minor": 0
      },
      "text/plain": [
       "VBox(children=(HBox(children=(IntProgress(value=0, description='0.00%', max=16145), Label(value='0 / 16145')))…"
      ]
     },
     "metadata": {},
     "output_type": "display_data"
    },
    {
     "name": "stdout",
     "output_type": "stream",
     "text": [
      "INFO: Pandarallel will run on 8 workers.\n",
      "INFO: Pandarallel will use standard multiprocessing data transfer (pipe) to transfer data between the main process and workers.\n",
      "====================================================================================================\n",
      "Log Dataset: (8566802, 39)\n",
      "Log Train Dataset: (128985, 18)\n",
      "====================================================================================================\n"
     ]
    }
   ],
   "source": [
    "### Log Dataset 정제 \n",
    "log_df4, log_df5 = prep_log(log_df)\n",
    "\n",
    "# Print \n",
    "print('='*100)\n",
    "print(f'Log Dataset: {log_df4.shape}')\n",
    "print(f'Log Train Dataset: {log_df5.shape}')\n",
    "print('='*100)"
   ]
  },
  {
   "cell_type": "code",
   "execution_count": 4,
   "metadata": {},
   "outputs": [
    {
     "name": "stdout",
     "output_type": "stream",
     "text": [
      "====================================================================================================\n",
      "Qa Dataset: (242922, 4)\n",
      "Qa Train Dataset: (137180, 13)\n",
      "====================================================================================================\n"
     ]
    }
   ],
   "source": [
    "### QA Dataset 정제 \n",
    "qa_df4, qa_df5 = prep_qa(qa_df, p_codes, target_list)\n",
    "\n",
    "# Print \n",
    "print('='*100)\n",
    "print(f'Qa Dataset: {qa_df4.shape}')\n",
    "print(f'Qa Train Dataset: {qa_df5.shape}')\n",
    "print('='*100)"
   ]
  },
  {
   "cell_type": "code",
   "execution_count": 5,
   "metadata": {},
   "outputs": [
    {
     "name": "stdout",
     "output_type": "stream",
     "text": [
      "====================================================================================================\n",
      "Recipe Dataset: (123200, 2)\n",
      "====================================================================================================\n"
     ]
    }
   ],
   "source": [
    "### Recipe Dataset 정제 \n",
    "recipe_df = prep_recipe(recipe_origin_df, info) \n",
    "\n",
    "# Print \n",
    "print('='*100)\n",
    "print(f'Recipe Dataset: {recipe_df.shape}')\n",
    "print('='*100)"
   ]
  },
  {
   "cell_type": "code",
   "execution_count": 6,
   "metadata": {},
   "outputs": [
    {
     "name": "stdout",
     "output_type": "stream",
     "text": [
      "====================================================================================================\n",
      "Daset Shape: (128985, 34)\n",
      "====================================================================================================\n"
     ]
    }
   ],
   "source": [
    "### Concat Dataset \n",
    "df1 = pd.merge(left=log_df5, right=qa_df5, on=\"작업지시번호-배치\", how=\"left\")\n",
    "df2 = pd.merge(left=df1, right=recipe_df, on=\"작업지시번호-배치\", how=\"left\")\n",
    "df3 = pd.merge(left=df2, right=weather_df, on=\"연월일\", how=\"left\").drop([\"연월일\"], axis=1)    \n",
    "\n",
    "# Print \n",
    "print('='*100)\n",
    "print(f'Daset Shape: {df3.shape}')\n",
    "print('='*100)\n"
   ]
  },
  {
   "cell_type": "code",
   "execution_count": 8,
   "metadata": {},
   "outputs": [
    {
     "name": "stdout",
     "output_type": "stream",
     "text": [
      "====================================================================================================\n",
      "Train Dataset Shape: (19156, 35)\n",
      "====================================================================================================\n"
     ]
    }
   ],
   "source": [
    "### Get Cluster Column \n",
    "dataset = create_cluster_col(df3, p_type='CMB')  \n",
    "# dataset = dataset.drop(columns=['Cluster'])\n",
    "\n",
    "# Print \n",
    "print('='*100)\n",
    "print(f'Train Dataset Shape: {dataset.shape}')\n",
    "print('='*100)"
   ]
  },
  {
   "cell_type": "code",
   "execution_count": 9,
   "metadata": {},
   "outputs": [
    {
     "name": "stdout",
     "output_type": "stream",
     "text": [
      "====================================================================================================\n",
      "cycle time        19040\n",
      "Ct 90_결과             12\n",
      "M/B_결과             7238\n",
      "M/B_기준             6479\n",
      "Scorch (T3)_결과        0\n",
      "Scorch (T5)_결과        0\n",
      "Vm_결과                 0\n",
      "경도_결과                 0\n",
      "dtype: int64\n",
      "====================================================================================================\n"
     ]
    }
   ],
   "source": [
    "### Target Value 확인 \n",
    "# 확인할 컬럼 리스트\n",
    "target_lst = [\n",
    "    \"cycle time\", \"Ct 90_결과\", \"M/B_결과\", \"M/B_기준\",\n",
    "    \"Scorch (T3)_결과\", \"Scorch (T5)_결과\", \"Vm_결과\", \"경도_결과\"\n",
    "]\n",
    "\n",
    "# Print \n",
    "print('='*100)\n",
    "print(dataset[target_lst].count())\n",
    "print('='*100)"
   ]
  },
  {
   "cell_type": "markdown",
   "metadata": {},
   "source": [
    "## ***PLOT***\n",
    "---"
   ]
  },
  {
   "cell_type": "code",
   "execution_count": 130,
   "metadata": {},
   "outputs": [],
   "source": [
    "### 시각화 \n",
    "# Apply \n",
    "product_code = 'FFHED60009' \n",
    "# plot_cluster(log_df, product_code) "
   ]
  },
  {
   "cell_type": "markdown",
   "metadata": {},
   "source": [
    "## ***점도별 제품 코드 분할***\n",
    "---"
   ]
  },
  {
   "cell_type": "code",
   "execution_count": 10,
   "metadata": {},
   "outputs": [
    {
     "data": {
      "image/png": "[encoded data removed]",
      "text/plain": [
       "<Figure size 1200x600 with 1 Axes>"
      ]
     },
     "metadata": {},
     "output_type": "display_data"
    }
   ],
   "source": [
    "### Target 분포 확인\n",
    "temp_col = 'M/B_결과'\n",
    "\n",
    "# 분포 Plot \n",
    "feature_normal_distribution(dataset, feature=temp_col) "
   ]
  },
  {
   "cell_type": "code",
   "execution_count": null,
   "metadata": {},
   "outputs": [
    {
     "name": "stdout",
     "output_type": "stream",
     "text": [
      "Cluster 1 제품코드 수: 5\n",
      "Cluster 2 제품코드 수: 14\n",
      "Cluster 3 제품코드 수: 18\n",
      "Cluster 4 제품코드 수: 6\n"
     ]
    }
   ],
   "source": [
    "### Vm Clustering \n",
    "# Apply \n",
    "temp_dataset = cluster_vm(dataset, target_col='Vm_결과') \n",
    "\n",
    "# 각 Cluster별 제품코드 조회 \n",
    "cluster_1_vm,cluster_2_vm,cluster_3_vm,cluster_4_vm = [],[],[],[]\n",
    "temp_dataset['제품코드'] = temp_dataset['작업지시번호-배치'].map(lambda x: x[6:16]) \n",
    "for idx, row in temp_dataset.iterrows(): \n",
    "    # P_code \n",
    "    p_code = row['제품코드'] \n",
    "\n",
    "    # Append \n",
    "    if row['Cluster_Vm']==1:\n",
    "        cluster_1_vm.append(p_code)  \n",
    "    elif row['Cluster_Vm']==2: \n",
    "        cluster_2_vm.append(p_code)  \n",
    "    elif row['Cluster_Vm']==3: \n",
    "        cluster_3_vm.append(p_code)  \n",
    "    elif row['Cluster_Vm']==4: \n",
    "        cluster_4_vm.append(p_code)   \n",
    "    else: \n",
    "        print(f'Cluster 안에 na 확인 {row[\"작업지시번호-배치\"]}') \n",
    "\n",
    "# 리스트 중복 제거 (set → list)\n",
    "cluster_1_vm = list(set(cluster_1_vm))\n",
    "cluster_2_vm = list(set(cluster_2_vm))\n",
    "cluster_3_vm = list(set(cluster_3_vm))\n",
    "cluster_4_vm = list(set(cluster_4_vm))\n",
    "\n",
    "# 결과 확인\n",
    "print(f\"Cluster 1 제품코드 수: {len(cluster_1_vm)}\")\n",
    "print(f\"Cluster 2 제품코드 수: {len(cluster_2_vm)}\")\n",
    "print(f\"Cluster 3 제품코드 수: {len(cluster_3_vm)}\")\n",
    "print(f\"Cluster 4 제품코드 수: {len(cluster_4_vm)}\")"
   ]
  },
  {
   "cell_type": "code",
   "execution_count": null,
   "metadata": {},
   "outputs": [
    {
     "data": {
      "text/html": [
       "<div>\n",
       "<style scoped>\n",
       "    .dataframe tbody tr th:only-of-type {\n",
       "        vertical-align: middle;\n",
       "    }\n",
       "\n",
       "    .dataframe tbody tr th {\n",
       "        vertical-align: top;\n",
       "    }\n",
       "\n",
       "    .dataframe thead th {\n",
       "        text-align: right;\n",
       "    }\n",
       "</style>\n",
       "<table border=\"1\" class=\"dataframe\">\n",
       "  <thead>\n",
       "    <tr style=\"text-align: right;\">\n",
       "      <th></th>\n",
       "      <th>제품코드</th>\n",
       "      <th>Vm_결과_median</th>\n",
       "      <th>Vm_결과_n</th>\n",
       "    </tr>\n",
       "  </thead>\n",
       "  <tbody>\n",
       "    <tr>\n",
       "      <th>0</th>\n",
       "      <td>FFHED60009</td>\n",
       "      <td>24.816</td>\n",
       "      <td>2126</td>\n",
       "    </tr>\n",
       "    <tr>\n",
       "      <th>1</th>\n",
       "      <td>FFWES60194</td>\n",
       "      <td>40.300</td>\n",
       "      <td>1140</td>\n",
       "    </tr>\n",
       "    <tr>\n",
       "      <th>2</th>\n",
       "      <td>FFSED70533</td>\n",
       "      <td>40.300</td>\n",
       "      <td>1950</td>\n",
       "    </tr>\n",
       "    <tr>\n",
       "      <th>3</th>\n",
       "      <td>FFWED70199</td>\n",
       "      <td>41.000</td>\n",
       "      <td>247</td>\n",
       "    </tr>\n",
       "    <tr>\n",
       "      <th>4</th>\n",
       "      <td>FFWED70007</td>\n",
       "      <td>41.500</td>\n",
       "      <td>2286</td>\n",
       "    </tr>\n",
       "    <tr>\n",
       "      <th>5</th>\n",
       "      <td>FFWED70103</td>\n",
       "      <td>42.200</td>\n",
       "      <td>691</td>\n",
       "    </tr>\n",
       "    <tr>\n",
       "      <th>6</th>\n",
       "      <td>FFHED60006</td>\n",
       "      <td>42.944</td>\n",
       "      <td>1006</td>\n",
       "    </tr>\n",
       "    <tr>\n",
       "      <th>7</th>\n",
       "      <td>FFWED70033</td>\n",
       "      <td>43.100</td>\n",
       "      <td>641</td>\n",
       "    </tr>\n",
       "    <tr>\n",
       "      <th>8</th>\n",
       "      <td>FFWED70284</td>\n",
       "      <td>44.800</td>\n",
       "      <td>2968</td>\n",
       "    </tr>\n",
       "    <tr>\n",
       "      <th>9</th>\n",
       "      <td>FFHED70147</td>\n",
       "      <td>45.760</td>\n",
       "      <td>4076</td>\n",
       "    </tr>\n",
       "    <tr>\n",
       "      <th>10</th>\n",
       "      <td>FFSED70498</td>\n",
       "      <td>46.200</td>\n",
       "      <td>286</td>\n",
       "    </tr>\n",
       "    <tr>\n",
       "      <th>11</th>\n",
       "      <td>FFWED70267</td>\n",
       "      <td>46.600</td>\n",
       "      <td>3619</td>\n",
       "    </tr>\n",
       "    <tr>\n",
       "      <th>12</th>\n",
       "      <td>FFSED70438</td>\n",
       "      <td>46.900</td>\n",
       "      <td>537</td>\n",
       "    </tr>\n",
       "    <tr>\n",
       "      <th>13</th>\n",
       "      <td>FFWED70321</td>\n",
       "      <td>47.350</td>\n",
       "      <td>52</td>\n",
       "    </tr>\n",
       "    <tr>\n",
       "      <th>14</th>\n",
       "      <td>FFWED70019</td>\n",
       "      <td>52.624</td>\n",
       "      <td>9978</td>\n",
       "    </tr>\n",
       "    <tr>\n",
       "      <th>15</th>\n",
       "      <td>FFHED70076</td>\n",
       "      <td>57.552</td>\n",
       "      <td>3359</td>\n",
       "    </tr>\n",
       "    <tr>\n",
       "      <th>16</th>\n",
       "      <td>FFHED70014</td>\n",
       "      <td>63.184</td>\n",
       "      <td>291</td>\n",
       "    </tr>\n",
       "    <tr>\n",
       "      <th>17</th>\n",
       "      <td>FFWED70283</td>\n",
       "      <td>64.944</td>\n",
       "      <td>365</td>\n",
       "    </tr>\n",
       "    <tr>\n",
       "      <th>18</th>\n",
       "      <td>FFWED70338</td>\n",
       "      <td>67.056</td>\n",
       "      <td>323</td>\n",
       "    </tr>\n",
       "    <tr>\n",
       "      <th>19</th>\n",
       "      <td>FFWED70102</td>\n",
       "      <td>69.872</td>\n",
       "      <td>2284</td>\n",
       "    </tr>\n",
       "    <tr>\n",
       "      <th>20</th>\n",
       "      <td>FFSED70032</td>\n",
       "      <td>70.048</td>\n",
       "      <td>1059</td>\n",
       "    </tr>\n",
       "  </tbody>\n",
       "</table>\n",
       "</div>"
      ],
      "text/plain": [
       "          제품코드  Vm_결과_median  Vm_결과_n\n",
       "0   FFHED60009        24.816     2126\n",
       "1   FFWES60194        40.300     1140\n",
       "2   FFSED70533        40.300     1950\n",
       "3   FFWED70199        41.000      247\n",
       "4   FFWED70007        41.500     2286\n",
       "5   FFWED70103        42.200      691\n",
       "6   FFHED60006        42.944     1006\n",
       "7   FFWED70033        43.100      641\n",
       "8   FFWED70284        44.800     2968\n",
       "9   FFHED70147        45.760     4076\n",
       "10  FFSED70498        46.200      286\n",
       "11  FFWED70267        46.600     3619\n",
       "12  FFSED70438        46.900      537\n",
       "13  FFWED70321        47.350       52\n",
       "14  FFWED70019        52.624     9978\n",
       "15  FFHED70076        57.552     3359\n",
       "16  FFHED70014        63.184      291\n",
       "17  FFWED70283        64.944      365\n",
       "18  FFWED70338        67.056      323\n",
       "19  FFWED70102        69.872     2284\n",
       "20  FFSED70032        70.048     1059"
      ]
     },
     "execution_count": 127,
     "metadata": {},
     "output_type": "execute_result"
    }
   ],
   "source": [
    "### 모든 제품코드 기준 결과값 Median 산출 \n",
    "summary = target_median(dataset, target_col='Vm_결과')\n",
    "summary"
   ]
  },
  {
   "cell_type": "code",
   "execution_count": 128,
   "metadata": {},
   "outputs": [
    {
     "data": {
      "text/html": [
       "<div>\n",
       "<style scoped>\n",
       "    .dataframe tbody tr th:only-of-type {\n",
       "        vertical-align: middle;\n",
       "    }\n",
       "\n",
       "    .dataframe tbody tr th {\n",
       "        vertical-align: top;\n",
       "    }\n",
       "\n",
       "    .dataframe thead th {\n",
       "        text-align: right;\n",
       "    }\n",
       "</style>\n",
       "<table border=\"1\" class=\"dataframe\">\n",
       "  <thead>\n",
       "    <tr style=\"text-align: right;\">\n",
       "      <th></th>\n",
       "      <th>제품코드</th>\n",
       "      <th>경도_결과_median</th>\n",
       "      <th>경도_결과_n</th>\n",
       "    </tr>\n",
       "  </thead>\n",
       "  <tbody>\n",
       "    <tr>\n",
       "      <th>0</th>\n",
       "      <td>FFHED60009</td>\n",
       "      <td>59.50</td>\n",
       "      <td>5641</td>\n",
       "    </tr>\n",
       "    <tr>\n",
       "      <th>1</th>\n",
       "      <td>FFHED60006</td>\n",
       "      <td>70.80</td>\n",
       "      <td>690</td>\n",
       "    </tr>\n",
       "    <tr>\n",
       "      <th>2</th>\n",
       "      <td>FFWED70103</td>\n",
       "      <td>72.00</td>\n",
       "      <td>110</td>\n",
       "    </tr>\n",
       "    <tr>\n",
       "      <th>3</th>\n",
       "      <td>FFHED70076</td>\n",
       "      <td>73.90</td>\n",
       "      <td>3373</td>\n",
       "    </tr>\n",
       "    <tr>\n",
       "      <th>4</th>\n",
       "      <td>FFHED70014</td>\n",
       "      <td>73.95</td>\n",
       "      <td>66</td>\n",
       "    </tr>\n",
       "    <tr>\n",
       "      <th>5</th>\n",
       "      <td>FFWED70007</td>\n",
       "      <td>74.00</td>\n",
       "      <td>3323</td>\n",
       "    </tr>\n",
       "    <tr>\n",
       "      <th>6</th>\n",
       "      <td>FFHED70147</td>\n",
       "      <td>74.00</td>\n",
       "      <td>5747</td>\n",
       "    </tr>\n",
       "    <tr>\n",
       "      <th>7</th>\n",
       "      <td>FFSED70533</td>\n",
       "      <td>74.20</td>\n",
       "      <td>1776</td>\n",
       "    </tr>\n",
       "    <tr>\n",
       "      <th>8</th>\n",
       "      <td>FFSED70438</td>\n",
       "      <td>74.70</td>\n",
       "      <td>595</td>\n",
       "    </tr>\n",
       "    <tr>\n",
       "      <th>9</th>\n",
       "      <td>FFWED70033</td>\n",
       "      <td>75.00</td>\n",
       "      <td>114</td>\n",
       "    </tr>\n",
       "    <tr>\n",
       "      <th>10</th>\n",
       "      <td>FFSED70498</td>\n",
       "      <td>75.10</td>\n",
       "      <td>586</td>\n",
       "    </tr>\n",
       "    <tr>\n",
       "      <th>11</th>\n",
       "      <td>FFWED70199</td>\n",
       "      <td>76.00</td>\n",
       "      <td>505</td>\n",
       "    </tr>\n",
       "    <tr>\n",
       "      <th>12</th>\n",
       "      <td>FFWED70267</td>\n",
       "      <td>77.00</td>\n",
       "      <td>1540</td>\n",
       "    </tr>\n",
       "    <tr>\n",
       "      <th>13</th>\n",
       "      <td>FFSED70032</td>\n",
       "      <td>77.80</td>\n",
       "      <td>280</td>\n",
       "    </tr>\n",
       "    <tr>\n",
       "      <th>14</th>\n",
       "      <td>FFWED70321</td>\n",
       "      <td>78.00</td>\n",
       "      <td>295</td>\n",
       "    </tr>\n",
       "    <tr>\n",
       "      <th>15</th>\n",
       "      <td>FFWED70019</td>\n",
       "      <td>78.00</td>\n",
       "      <td>30594</td>\n",
       "    </tr>\n",
       "    <tr>\n",
       "      <th>16</th>\n",
       "      <td>FFWED70284</td>\n",
       "      <td>78.60</td>\n",
       "      <td>9331</td>\n",
       "    </tr>\n",
       "    <tr>\n",
       "      <th>17</th>\n",
       "      <td>FFWED70283</td>\n",
       "      <td>79.10</td>\n",
       "      <td>507</td>\n",
       "    </tr>\n",
       "    <tr>\n",
       "      <th>18</th>\n",
       "      <td>FFWED70338</td>\n",
       "      <td>80.40</td>\n",
       "      <td>87</td>\n",
       "    </tr>\n",
       "    <tr>\n",
       "      <th>19</th>\n",
       "      <td>FFWED70102</td>\n",
       "      <td>82.00</td>\n",
       "      <td>4684</td>\n",
       "    </tr>\n",
       "    <tr>\n",
       "      <th>20</th>\n",
       "      <td>FFWES60194</td>\n",
       "      <td>NaN</td>\n",
       "      <td>0</td>\n",
       "    </tr>\n",
       "  </tbody>\n",
       "</table>\n",
       "</div>"
      ],
      "text/plain": [
       "          제품코드  경도_결과_median  경도_결과_n\n",
       "0   FFHED60009         59.50     5641\n",
       "1   FFHED60006         70.80      690\n",
       "2   FFWED70103         72.00      110\n",
       "3   FFHED70076         73.90     3373\n",
       "4   FFHED70014         73.95       66\n",
       "5   FFWED70007         74.00     3323\n",
       "6   FFHED70147         74.00     5747\n",
       "7   FFSED70533         74.20     1776\n",
       "8   FFSED70438         74.70      595\n",
       "9   FFWED70033         75.00      114\n",
       "10  FFSED70498         75.10      586\n",
       "11  FFWED70199         76.00      505\n",
       "12  FFWED70267         77.00     1540\n",
       "13  FFSED70032         77.80      280\n",
       "14  FFWED70321         78.00      295\n",
       "15  FFWED70019         78.00    30594\n",
       "16  FFWED70284         78.60     9331\n",
       "17  FFWED70283         79.10      507\n",
       "18  FFWED70338         80.40       87\n",
       "19  FFWED70102         82.00     4684\n",
       "20  FFWES60194           NaN        0"
      ]
     },
     "execution_count": 128,
     "metadata": {},
     "output_type": "execute_result"
    }
   ],
   "source": [
    "# Apply \n",
    "summary = target_median(dataset, target_col='경도_결과')\n",
    "summary"
   ]
  },
  {
   "cell_type": "code",
   "execution_count": null,
   "metadata": {},
   "outputs": [],
   "source": []
  }
 ],
 "metadata": {
  "kernelspec": {
   "display_name": "Python 3",
   "language": "python",
   "name": "python3"
  },
  "language_info": {
   "codemirror_mode": {
    "name": "ipython",
    "version": 3
   },
   "file_extension": ".py",
   "mimetype": "text/x-python",
   "name": "python",
   "nbconvert_exporter": "python",
   "pygments_lexer": "ipython3",
   "version": "3.10.16"
  }
 },
 "nbformat": 4,
 "nbformat_minor": 2
}
